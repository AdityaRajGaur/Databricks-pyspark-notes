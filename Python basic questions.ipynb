{
 "cells": [
  {
   "cell_type": "code",
   "execution_count": 0,
   "metadata": {
    "application/vnd.databricks.v1+cell": {
     "cellMetadata": {
      "byteLimit": 2048000,
      "rowLimit": 10000
     },
     "inputWidgets": {},
     "nuid": "61ec00dc-4a81-4d4d-989d-d666b641e55f",
     "showTitle": false,
     "title": ""
    }
   },
   "outputs": [
    {
     "output_type": "stream",
     "name": "stdout",
     "output_type": "stream",
     "text": [
      "THIS IS A PYTHON NOTEBOOK FOR PRACTICE\n"
     ]
    }
   ],
   "source": [
    "print(\"THIS IS A PYTHON NOTEBOOK FOR PRACTICE\")"
   ]
  },
  {
   "cell_type": "markdown",
   "metadata": {
    "application/vnd.databricks.v1+cell": {
     "cellMetadata": {
      "byteLimit": 2048000,
      "rowLimit": 10000
     },
     "inputWidgets": {},
     "nuid": "42e589c1-c0cb-4133-9f4d-f279dbd2c54d",
     "showTitle": false,
     "title": ""
    }
   },
   "source": [
    "###List Comprehension:\n",
    "#### List comprehensions provide a concise way to create lists. Commonly used for creating new lists by applying an expression to each item in an iterable.\n"
   ]
  },
  {
   "cell_type": "code",
   "execution_count": 0,
   "metadata": {
    "application/vnd.databricks.v1+cell": {
     "cellMetadata": {
      "byteLimit": 2048000,
      "rowLimit": 10000
     },
     "inputWidgets": {},
     "nuid": "692f3790-baa9-40db-9c88-5789eec4ff0e",
     "showTitle": false,
     "title": ""
    }
   },
   "outputs": [
    {
     "output_type": "stream",
     "name": "stdout",
     "output_type": "stream",
     "text": [
      "squares of numbers upto 10 [0, 1, 4, 9, 16, 25, 36, 49, 64, 81]\n"
     ]
    }
   ],
   "source": [
    "#Basic list comprehension\n",
    "squares = [x**2 for x in range(10)]\n",
    "print(\"squares of numbers upto 10\",squares)"
   ]
  },
  {
   "cell_type": "markdown",
   "metadata": {
    "application/vnd.databricks.v1+cell": {
     "cellMetadata": {},
     "inputWidgets": {},
     "nuid": "69cc39ef-96dd-46b5-870b-375bd569dcd0",
     "showTitle": false,
     "title": ""
    }
   },
   "source": [
    "##Generators\n",
    "####Generators are iterators that yield items one at a time and only compute items as they are needed, which makes them memory efficient"
   ]
  },
  {
   "cell_type": "markdown",
   "metadata": {
    "application/vnd.databricks.v1+cell": {
     "cellMetadata": {},
     "inputWidgets": {},
     "nuid": "3fc69c3b-2e74-47dd-8f3c-3ba1c336c86a",
     "showTitle": false,
     "title": ""
    }
   },
   "source": [
    "### Example 1"
   ]
  },
  {
   "cell_type": "code",
   "execution_count": 0,
   "metadata": {
    "application/vnd.databricks.v1+cell": {
     "cellMetadata": {
      "byteLimit": 2048000,
      "rowLimit": 10000
     },
     "inputWidgets": {},
     "nuid": "92a6b401-0f40-4831-983c-b59aa84d9c45",
     "showTitle": false,
     "title": ""
    }
   },
   "outputs": [
    {
     "output_type": "stream",
     "name": "stdout",
     "output_type": "stream",
     "text": [
      "1\n2\n3\n"
     ]
    }
   ],
   "source": [
    "# A generator function that yields 1 for first time,2 for second time and 3 for 3rd time.\n",
    "def simpleGeneratorFun():\n",
    "    yield 1\n",
    "    yield 2\n",
    "    yield 3\n",
    "for value in simpleGeneratorFun():\n",
    "    print(value)"
   ]
  },
  {
   "cell_type": "markdown",
   "metadata": {
    "application/vnd.databricks.v1+cell": {
     "cellMetadata": {},
     "inputWidgets": {},
     "nuid": "cc702bc9-9850-4479-b027-91cd31fbc174",
     "showTitle": false,
     "title": ""
    }
   },
   "source": [
    "### Example 2"
   ]
  },
  {
   "cell_type": "code",
   "execution_count": 0,
   "metadata": {
    "application/vnd.databricks.v1+cell": {
     "cellMetadata": {
      "byteLimit": 2048000,
      "rowLimit": 10000
     },
     "inputWidgets": {},
     "nuid": "4028cdc9-23f3-498c-83be-1d497b97d159",
     "showTitle": false,
     "title": ""
    }
   },
   "outputs": [
    {
     "output_type": "stream",
     "name": "stdout",
     "output_type": "stream",
     "text": [
      "0\n1\n4\n9\n16\n"
     ]
    }
   ],
   "source": [
    "def generate_squares(n):\n",
    "  for i in range(n):\n",
    "    yield i**2\n",
    "\n",
    "for square in generate_squares(5):\n",
    "  print(square)"
   ]
  },
  {
   "cell_type": "markdown",
   "metadata": {
    "application/vnd.databricks.v1+cell": {
     "cellMetadata": {},
     "inputWidgets": {},
     "nuid": "dbce2aa9-4d96-45ab-b18e-b4aac627564d",
     "showTitle": false,
     "title": ""
    }
   },
   "source": [
    "## Decorators\n",
    "#### Decorators are a way to modify or extend the behavior of functions or methods. They are often used for logging, access control, and memoization."
   ]
  },
  {
   "cell_type": "code",
   "execution_count": 0,
   "metadata": {
    "application/vnd.databricks.v1+cell": {
     "cellMetadata": {
      "byteLimit": 2048000,
      "rowLimit": 10000
     },
     "inputWidgets": {},
     "nuid": "111dd683-47af-44aa-945c-ba9259873c5b",
     "showTitle": false,
     "title": ""
    }
   },
   "outputs": [
    {
     "output_type": "stream",
     "name": "stdout",
     "output_type": "stream",
     "text": [
      "Do something before the function call\nhello\nDo something after the functio call\n"
     ]
    }
   ],
   "source": [
    "def my_decorator(func):\n",
    "  def wrapper():\n",
    "    print(\"Do something before the function call\")\n",
    "    func()\n",
    "    print(\"Do something after the functio call\")\n",
    "  return wrapper\n",
    "  \n",
    "@my_decorator\n",
    "def say_hello():\n",
    "  print(\"hello\")\n",
    "\n",
    "say_hello()"
   ]
  },
  {
   "cell_type": "markdown",
   "metadata": {
    "application/vnd.databricks.v1+cell": {
     "cellMetadata": {},
     "inputWidgets": {},
     "nuid": "60288e21-34c6-4bdf-915e-2d6b14ea7945",
     "showTitle": false,
     "title": ""
    }
   },
   "source": [
    " ### map(), filter(), and reduce()\n",
    "#### map(): Applies a function to all items in an input list.\n",
    "#### filter(): Creates a list of elements for which a function returns true.\n",
    "#### reduce(): Applies a rolling computation to sequential pairs of values in a list (requires functools)."
   ]
  },
  {
   "cell_type": "code",
   "execution_count": 0,
   "metadata": {
    "application/vnd.databricks.v1+cell": {
     "cellMetadata": {
      "byteLimit": 2048000,
      "rowLimit": 10000
     },
     "inputWidgets": {},
     "nuid": "c0d3ab03-535f-489c-b005-b0d69e328ed9",
     "showTitle": false,
     "title": ""
    }
   },
   "outputs": [
    {
     "output_type": "stream",
     "name": "stdout",
     "output_type": "stream",
     "text": [
      "[0, 1, 4, 9, 16]\n"
     ]
    }
   ],
   "source": [
    "#map example\n",
    "squared = list(map(lambda x:x**2,range(5)))\n",
    "print(squared)"
   ]
  },
  {
   "cell_type": "code",
   "execution_count": 0,
   "metadata": {
    "application/vnd.databricks.v1+cell": {
     "cellMetadata": {
      "byteLimit": 2048000,
      "rowLimit": 10000
     },
     "inputWidgets": {},
     "nuid": "3bc0747b-2168-4da3-a184-8b282a57e0d6",
     "showTitle": false,
     "title": ""
    }
   },
   "outputs": [
    {
     "output_type": "stream",
     "name": "stdout",
     "output_type": "stream",
     "text": [
      "[0, 2, 4, 6, 8]\n"
     ]
    }
   ],
   "source": [
    "#filter example\n",
    "evens = list(filter(lambda x: x%2 == 0,range(10)))\n",
    "print(evens)"
   ]
  },
  {
   "cell_type": "markdown",
   "metadata": {
    "application/vnd.databricks.v1+cell": {
     "cellMetadata": {},
     "inputWidgets": {},
     "nuid": "ecb37f16-a97b-4054-a257-c13c55aa1bcb",
     "showTitle": false,
     "title": ""
    }
   },
   "source": [
    "### Reduce\n",
    "#### How reduce() Works\n",
    "Function Application: reduce() applies the provided function to the first two items of the iterable.\n",
    "\n",
    "Cumulative Application: It then applies the same function to the result of the previous application and the next item in the iterable.\n",
    "\n",
    "Single Result: This process continues until only one value remains."
   ]
  },
  {
   "cell_type": "code",
   "execution_count": 0,
   "metadata": {
    "application/vnd.databricks.v1+cell": {
     "cellMetadata": {
      "byteLimit": 2048000,
      "rowLimit": 10000
     },
     "inputWidgets": {},
     "nuid": "f8066b43-b13c-4256-b7da-1beff1093b73",
     "showTitle": false,
     "title": ""
    }
   },
   "outputs": [
    {
     "output_type": "stream",
     "name": "stdout",
     "output_type": "stream",
     "text": [
      "1 2\n2 3\n6 4\n24 5\n120\n"
     ]
    }
   ],
   "source": [
    "from functools import reduce\n",
    "\n",
    "#function to multiply 2 numbers\n",
    "def multiply_numbers(x,y):\n",
    "  print(x,y)  #only two numbers are used at a time\n",
    "  return x*y\n",
    "\n",
    "list_of_numbers = [1,2,3,4,5]\n",
    "\n",
    "#using reduce to calculate the product\n",
    "result =reduce(multiply_numbers,list_of_numbers)\n",
    "print(result)"
   ]
  },
  {
   "cell_type": "code",
   "execution_count": 0,
   "metadata": {
    "application/vnd.databricks.v1+cell": {
     "cellMetadata": {
      "byteLimit": 2048000,
      "rowLimit": 10000
     },
     "inputWidgets": {},
     "nuid": "ed9d6d2d-4592-4b77-a30f-5bad066eb0c0",
     "showTitle": false,
     "title": ""
    }
   },
   "outputs": [
    {
     "output_type": "stream",
     "name": "stdout",
     "output_type": "stream",
     "text": [
      "1200\n"
     ]
    }
   ],
   "source": [
    "## Reduce with initializer\n",
    "from functools import reduce\n",
    "\n",
    "# Function to multiply two numbers\n",
    "def multiply(x, y):\n",
    "    return x * y\n",
    "\n",
    "# List of numbers\n",
    "numbers = [1, 2, 3, 4, 5]\n",
    "\n",
    "# Use reduce with an initializer to calculate the product\n",
    "product = reduce(multiply, numbers, 10)\n",
    "print(product)  # Output: 1200\n"
   ]
  },
  {
   "cell_type": "markdown",
   "metadata": {
    "application/vnd.databricks.v1+cell": {
     "cellMetadata": {},
     "inputWidgets": {},
     "nuid": "b897299e-2cd4-450f-8b40-b3d961128be6",
     "showTitle": false,
     "title": ""
    }
   },
   "source": [
    "##Lambda\n",
    "Lambda functions are small anonymous functions defined with the lambda keyword. They are used for short, throwaway functions."
   ]
  },
  {
   "cell_type": "code",
   "execution_count": 0,
   "metadata": {
    "application/vnd.databricks.v1+cell": {
     "cellMetadata": {
      "byteLimit": 2048000,
      "rowLimit": 10000
     },
     "inputWidgets": {},
     "nuid": "fac1d772-c4a0-4424-8d8f-44398c89960b",
     "showTitle": false,
     "title": ""
    }
   },
   "outputs": [
    {
     "output_type": "stream",
     "name": "stdout",
     "output_type": "stream",
     "text": [
      "8\n"
     ]
    }
   ],
   "source": [
    "add = lambda x,y: x+y\n",
    "print(add(5,3))"
   ]
  },
  {
   "cell_type": "markdown",
   "metadata": {
    "application/vnd.databricks.v1+cell": {
     "cellMetadata": {},
     "inputWidgets": {},
     "nuid": "33ae4756-38d2-47e7-8dc5-eb11c2073c99",
     "showTitle": false,
     "title": ""
    }
   },
   "source": [
    "## python oops examples"
   ]
  },
  {
   "cell_type": "code",
   "execution_count": 0,
   "metadata": {
    "application/vnd.databricks.v1+cell": {
     "cellMetadata": {
      "byteLimit": 2048000,
      "rowLimit": 10000
     },
     "inputWidgets": {},
     "nuid": "a2950038-94e9-48b5-8681-2a323d8a42d5",
     "showTitle": false,
     "title": ""
    }
   },
   "outputs": [
    {
     "output_type": "stream",
     "name": "stdout",
     "output_type": "stream",
     "text": [
      "Buddy is 3 years old.\nLucy says Woof Woof.\n"
     ]
    }
   ],
   "source": [
    "class Dog:\n",
    "    # Class attribute\n",
    "    species = \"Canis familiaris\"\n",
    "\n",
    "    # Initializer / Instance attributes\n",
    "    def __init__(self, name, age):\n",
    "        self.name = name\n",
    "        self.age = age\n",
    "\n",
    "    # Instance method\n",
    "    def description(self):\n",
    "        return f\"{self.name} is {self.age} years old.\"\n",
    "\n",
    "    # Another instance method\n",
    "    def speak(self, sound):\n",
    "        return f\"{self.name} says {sound}.\"\n",
    "\n",
    "# Creating instances of the Dog class\n",
    "dog1 = Dog(\"Buddy\", 3)\n",
    "dog2 = Dog(\"Lucy\", 5)\n",
    "\n",
    "# Accessing attributes and methods\n",
    "print(dog1.description())  # Buddy is 3 years old.\n",
    "print(dog2.speak(\"Woof Woof\"))  # Lucy says Woof Woof\n"
   ]
  },
  {
   "cell_type": "markdown",
   "metadata": {
    "application/vnd.databricks.v1+cell": {
     "cellMetadata": {},
     "inputWidgets": {},
     "nuid": "f83a20a0-d055-421b-937f-3c27faf2767f",
     "showTitle": false,
     "title": ""
    }
   },
   "source": [
    "### Inheritance"
   ]
  },
  {
   "cell_type": "code",
   "execution_count": 0,
   "metadata": {
    "application/vnd.databricks.v1+cell": {
     "cellMetadata": {
      "byteLimit": 2048000,
      "rowLimit": 10000
     },
     "inputWidgets": {},
     "nuid": "a7c913aa-eedc-4fae-beec-84940fcf6d5d",
     "showTitle": false,
     "title": ""
    }
   },
   "outputs": [
    {
     "output_type": "stream",
     "name": "stdout",
     "output_type": "stream",
     "text": [
      "Buddy is moving.\nBuddy says Woof!\n"
     ]
    }
   ],
   "source": [
    "class Animal:\n",
    "    def __init__(self, name):\n",
    "        self.name = name\n",
    "\n",
    "    def move(self):\n",
    "        print(f\"{self.name} is moving.\")\n",
    "\n",
    "class Dog(Animal):\n",
    "    \n",
    "    def bark(self):\n",
    "        print(f\"{self.name} says Woof!\")\n",
    "\n",
    "# Creating an instance of the Dog class\n",
    "dog = Dog(\"Buddy\")\n",
    "\n",
    "# Accessing methods from both the Dog and Animal classes\n",
    "dog.move()  # Buddy is moving.\n",
    "dog.bark()  # Buddy says Woof!\n"
   ]
  },
  {
   "cell_type": "code",
   "execution_count": 0,
   "metadata": {
    "application/vnd.databricks.v1+cell": {
     "cellMetadata": {
      "byteLimit": 2048000,
      "rowLimit": 10000
     },
     "inputWidgets": {},
     "nuid": "8c2e86e1-3765-434a-8383-941ff2d9076a",
     "showTitle": false,
     "title": ""
    }
   },
   "outputs": [
    {
     "output_type": "stream",
     "name": "stdout",
     "output_type": "stream",
     "text": [
      "Animal is moving\nPet is playing\nDog is barking\n"
     ]
    }
   ],
   "source": [
    "#### Multiple inheritance ####\n",
    "class Animal:\n",
    "    def move(self):\n",
    "        print(\"Animal is moving\")\n",
    "\n",
    "class Pet:\n",
    "    def play(self):\n",
    "        print(\"Pet is playing\")\n",
    "\n",
    "class Dog(Animal, Pet):\n",
    "    def bark(self):\n",
    "        print(\"Dog is barking\")\n",
    "\n",
    "# Creating an instance of Dog\n",
    "dog = Dog()\n",
    "dog.move()  # Animal is moving\n",
    "dog.play()  # Pet is playing\n",
    "dog.bark()  # Dog is barking\n"
   ]
  },
  {
   "cell_type": "code",
   "execution_count": 0,
   "metadata": {
    "application/vnd.databricks.v1+cell": {
     "cellMetadata": {
      "byteLimit": 2048000,
      "rowLimit": 10000
     },
     "inputWidgets": {},
     "nuid": "417f93d2-664b-4207-af68-4ac704eea3fe",
     "showTitle": false,
     "title": ""
    }
   },
   "outputs": [
    {
     "output_type": "stream",
     "name": "stdout",
     "output_type": "stream",
     "text": [
      "Animal is moving\nMammal is feeding milk\nDog is barking\n"
     ]
    }
   ],
   "source": [
    "#### Multilevel inheritance ####\n",
    "class Animal:\n",
    "    def move(self):\n",
    "        print(\"Animal is moving\")\n",
    "\n",
    "class Mammal(Animal):\n",
    "    def feed_milk(self):\n",
    "        print(\"Mammal is feeding milk\")\n",
    "\n",
    "class Dog(Mammal):\n",
    "    def bark(self):\n",
    "        print(\"Dog is barking\")\n",
    "\n",
    "# Creating an instance of Dog\n",
    "dog = Dog()\n",
    "dog.move()      # Animal is moving\n",
    "dog.feed_milk() # Mammal is feeding milk\n",
    "dog.bark()      # Dog is barking\n"
   ]
  },
  {
   "cell_type": "code",
   "execution_count": 0,
   "metadata": {
    "application/vnd.databricks.v1+cell": {
     "cellMetadata": {
      "byteLimit": 2048000,
      "rowLimit": 10000
     },
     "inputWidgets": {},
     "nuid": "c0dae04b-af00-448a-8f96-5f706d209e35",
     "showTitle": false,
     "title": ""
    }
   },
   "outputs": [],
   "source": [
    "## Python supports Hierarchial inheritance and hybrid Inheritance as well\n",
    "## In hierarchical inheritance, multiple derived classes inherit from a single base class.\n",
    "## Hybrid inheritance is a combination of two or more types of inheritance."
   ]
  },
  {
   "cell_type": "markdown",
   "metadata": {
    "application/vnd.databricks.v1+cell": {
     "cellMetadata": {},
     "inputWidgets": {},
     "nuid": "10f1024e-6be7-4f58-acc5-2fdbc8085e7f",
     "showTitle": false,
     "title": ""
    }
   },
   "source": [
    "## Encapsulation"
   ]
  },
  {
   "cell_type": "code",
   "execution_count": 0,
   "metadata": {
    "application/vnd.databricks.v1+cell": {
     "cellMetadata": {
      "byteLimit": 2048000,
      "rowLimit": 10000
     },
     "inputWidgets": {},
     "nuid": "84655c99-7a54-4ed2-8772-3c9cfffacda7",
     "showTitle": false,
     "title": ""
    }
   },
   "outputs": [
    {
     "output_type": "stream",
     "name": "stdout",
     "output_type": "stream",
     "text": [
      "Toyota\nCamry\n"
     ]
    }
   ],
   "source": [
    "# \n",
    "class Car:\n",
    "    def __init__(self, make, model):\n",
    "        self.__make = make  # Private attribute\n",
    "        self.__model = model  # Private attribute\n",
    "\n",
    "    def get_make(self):\n",
    "        return self.__make\n",
    "\n",
    "    def set_make(self, make):\n",
    "        self.__make = make\n",
    "\n",
    "    def get_model(self):\n",
    "        return self.__model\n",
    "\n",
    "    def set_model(self, model):\n",
    "        self.__model = model\n",
    "\n",
    "# Creating an instance of the Car class\n",
    "car = Car(\"Toyota\", \"Corolla\")\n",
    "\n",
    "# Accessing private attributes via public methods\n",
    "print(car.get_make())  # Toyota\n",
    "car.set_model(\"Camry\")\n",
    "print(car.get_model())  # Camry\n"
   ]
  },
  {
   "cell_type": "code",
   "execution_count": 0,
   "metadata": {
    "application/vnd.databricks.v1+cell": {
     "cellMetadata": {},
     "inputWidgets": {},
     "nuid": "ee1d6683-14ea-4405-a179-3c3e9fdf54e0",
     "showTitle": false,
     "title": ""
    }
   },
   "outputs": [],
   "source": [
    "# Private Attributes: __make and __model are private attributes, not accessible directly from outside the class.\n",
    "# Public Methods: get_make(), set_make(), get_model(), and set_model() are public methods that provide controlled # access to the private attributes."
   ]
  },
  {
   "cell_type": "markdown",
   "metadata": {
    "application/vnd.databricks.v1+cell": {
     "cellMetadata": {},
     "inputWidgets": {},
     "nuid": "e66c3bee-a09c-4567-bcb6-7ff7de680281",
     "showTitle": false,
     "title": ""
    }
   },
   "source": [
    "## Polymorphism"
   ]
  },
  {
   "cell_type": "markdown",
   "metadata": {
    "application/vnd.databricks.v1+cell": {
     "cellMetadata": {},
     "inputWidgets": {},
     "nuid": "f86da023-17a3-48ad-893f-7cc43b3b6ee7",
     "showTitle": false,
     "title": ""
    }
   },
   "source": [
    "#### Polymorphism means the same function name (but different signatures) being used for different types. The key difference is the data types and number of arguments used in function."
   ]
  },
  {
   "cell_type": "code",
   "execution_count": 0,
   "metadata": {
    "application/vnd.databricks.v1+cell": {
     "cellMetadata": {
      "byteLimit": 2048000,
      "rowLimit": 10000
     },
     "inputWidgets": {},
     "nuid": "198d4749-8618-4d79-a28e-5d878b0f4a87",
     "showTitle": false,
     "title": ""
    }
   },
   "outputs": [
    {
     "output_type": "stream",
     "name": "stdout",
     "output_type": "stream",
     "text": [
      "5\n3\n"
     ]
    }
   ],
   "source": [
    "# Python program to demonstrate in-built poly-morphic functions\n",
    "\n",
    "# len() being used for a string\n",
    "print(len(\"geeks\"))\n",
    "\n",
    "# len() being used for a list\n",
    "print(len([10, 20, 30]))\n"
   ]
  },
  {
   "cell_type": "markdown",
   "metadata": {
    "application/vnd.databricks.v1+cell": {
     "cellMetadata": {},
     "inputWidgets": {},
     "nuid": "245889c8-1a7f-4e6a-b2df-e8dfad2af9cf",
     "showTitle": false,
     "title": ""
    }
   },
   "source": [
    "# Abstraction\n",
    "#### Example below"
   ]
  },
  {
   "cell_type": "code",
   "execution_count": 0,
   "metadata": {
    "application/vnd.databricks.v1+cell": {
     "cellMetadata": {
      "byteLimit": 2048000,
      "rowLimit": 10000
     },
     "inputWidgets": {},
     "nuid": "02200ff6-71e5-41c0-800a-fd4eefc4bf88",
     "showTitle": false,
     "title": ""
    }
   },
   "outputs": [
    {
     "output_type": "stream",
     "name": "stdout",
     "output_type": "stream",
     "text": [
      "Brand: Maruti\nModel: Alto\nYear: 2022\nspeed up ...\n"
     ]
    }
   ],
   "source": [
    "# Import required modules \n",
    "from abc import ABC, abstractmethod \n",
    "\n",
    "# Create Abstract base class \n",
    "class Car(ABC): \n",
    "    def __init__(self, brand, model, year): \n",
    "        self.brand = brand \n",
    "        self.model = model \n",
    "        self.year = year \n",
    "        \n",
    "    # Create abstract method\t \n",
    "    @abstractmethod\n",
    "    def printDetails(self): \n",
    "        pass\n",
    "        \n",
    "    # Create concrete method \n",
    "    def accelerate(self): \n",
    "        print(\"speed up ...\") \n",
    "        \n",
    "    def break_applied(self): \n",
    "        print(\"Car stop\") \n",
    "\t\n",
    "# Create a child class \n",
    "class Hatchback(Car): \n",
    "        \n",
    "    def printDetails(self): \n",
    "        print(\"Brand:\", self.brand); \n",
    "        print(\"Model:\", self.model); \n",
    "        print(\"Year:\", self.year); \n",
    "        \n",
    "    def Sunroof(self): \n",
    "        print(\"Not having this feature\") \n",
    "        \n",
    "# Create a child class \n",
    "class Suv(Car): \n",
    "        \n",
    "    def printDetails(self): \n",
    "        print(\"Brand:\", self.brand); \n",
    "        print(\"Model:\", self.model); \n",
    "        print(\"Year:\", self.year); \n",
    "        \n",
    "    def Sunroof(self): \n",
    "        print(\"Available\") \n",
    "\n",
    "\t\n",
    "car1 = Hatchback(\"Maruti\", \"Alto\", \"2022\"); \n",
    "\n",
    "car1.printDetails() \n",
    "car1.accelerate() \n",
    "\t\n",
    "\n"
   ]
  },
  {
   "cell_type": "markdown",
   "metadata": {
    "application/vnd.databricks.v1+cell": {
     "cellMetadata": {},
     "inputWidgets": {},
     "nuid": "79665004-9b40-4f50-a1cb-e21279dd1e39",
     "showTitle": false,
     "title": ""
    }
   },
   "source": [
    "### PYTHON DSA basic qestions with examples:-"
   ]
  },
  {
   "cell_type": "code",
   "execution_count": 0,
   "metadata": {
    "application/vnd.databricks.v1+cell": {
     "cellMetadata": {},
     "inputWidgets": {},
     "nuid": "1bde8707-42ea-4dd8-b5e9-9dea52f71e73",
     "showTitle": false,
     "title": ""
    }
   },
   "outputs": [],
   "source": []
  }
 ],
 "metadata": {
  "application/vnd.databricks.v1+notebook": {
   "dashboards": [],
   "environmentMetadata": null,
   "language": "python",
   "notebookMetadata": {
    "pythonIndentUnit": 4
   },
   "notebookName": "Python interview practice with examples",
   "widgets": {}
  }
 },
 "nbformat": 4,
 "nbformat_minor": 0
}
